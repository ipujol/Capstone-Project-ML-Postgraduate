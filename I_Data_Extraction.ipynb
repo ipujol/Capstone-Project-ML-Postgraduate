{
 "cells": [
  {
   "cell_type": "code",
   "execution_count": 1,
   "metadata": {
    "ExecuteTime": {
     "end_time": "2023-07-01T12:42:39.721634Z",
     "start_time": "2023-07-01T12:42:38.106065Z"
    },
    "id": "mEVxznqqxSdc"
   },
   "outputs": [
    {
     "name": "stderr",
     "output_type": "stream",
     "text": [
      "/Users/fernadavo/.virtualenvs/dev_new/lib/python3.7/site-packages/pandas/compat/_optional.py:138: UserWarning: Pandas requires version '2.7.0' or newer of 'numexpr' (version '2.6.9' currently installed).\n",
      "  warnings.warn(msg, UserWarning)\n",
      "/Users/fernadavo/.virtualenvs/dev_new/lib/python3.7/site-packages/ipykernel_launcher.py:9: TqdmDeprecationWarning: This function will be removed in tqdm==5.0.0\n",
      "Please use `tqdm.notebook.*` instead of `tqdm._tqdm_notebook.*`\n",
      "  if __name__ == '__main__':\n"
     ]
    }
   ],
   "source": [
    "import pandas as pd\n",
    "from tqdm import tqdm\n",
    "import os"
   ]
  },
  {
   "cell_type": "markdown",
   "metadata": {},
   "source": [
    "### Get the data from the web"
   ]
  },
  {
   "cell_type": "code",
   "execution_count": null,
   "metadata": {},
   "outputs": [],
   "source": [
    "#!apt-get install p7zip-full p7zip-rar\n",
    "# !pip install matplotlib"
   ]
  },
  {
   "cell_type": "code",
   "execution_count": 8,
   "metadata": {
    "ExecuteTime": {
     "end_time": "2023-06-29T18:42:10.046657Z",
     "start_time": "2023-06-29T18:42:10.043962Z"
    }
   },
   "outputs": [],
   "source": [
    "for year in tqdm([2023,2022,2021,2020,2019]):\n",
    "    if year == 2023:\n",
    "        i2m = list(zip(range(1,5), ['Gener','Febrer','Marc','Abril','Maig']))\n",
    "    else:\n",
    "        i2m = list(zip(range(1,13), ['Gener','Febrer','Marc','Abril','Maig','Juny','Juliol','Agost','Setembre','Octubre','Novembre','Desembre']))\n",
    "    for month, month_name in tqdm(i2m):\n",
    "        os.system(f\"wget 'https://opendata-ajuntament.barcelona.cat/resources/bcn/BicingBCN/{year}_{month:02d}_{month_name}_BicingNou_ESTACIONS.7z'\")\n",
    "        os.system(f\"7z x '{year}_{month:02d}_{month_name}_BicingNou_ESTACIONS.7z'\")\n",
    "        # os.system(f\"rm '{year}_{month:02d}_{month_name}_BicingNou_ESTACIONS.7z'\")"
   ]
  },
  {
   "cell_type": "code",
   "execution_count": null,
   "metadata": {},
   "outputs": [],
   "source": [
    "os.system(\"wget 'https://opendata-ajuntament.barcelona.cat/resources/bcn/BicingBCN/2022_04_Abril_BicingNou_INFORMACIO.7z'\")\n",
    "os.system(\"7z x '2022_04_Abril_BicingNou_INFORMACIO.7z'\")\n",
    "os.system(\"rm '2022_04_Abril_BicingNou_INFORMACIO.7z'\")\n",
    "\n",
    "info = pd.read_csv('2022_04_Abril_BicingNou_INFORMACIO.csv')"
   ]
  },
  {
   "cell_type": "markdown",
   "metadata": {
    "ExecuteTime": {
     "end_time": "2023-06-24T09:35:18.314851Z",
     "start_time": "2023-06-24T09:35:18.311851Z"
    }
   },
   "source": [
    "### Aggregate Data at hour level"
   ]
  },
  {
   "cell_type": "code",
   "execution_count": 53,
   "metadata": {
    "ExecuteTime": {
     "end_time": "2023-07-01T13:54:25.702796Z",
     "start_time": "2023-07-01T13:54:19.123216Z"
    },
    "colab": {
     "base_uri": "https://localhost:8080/"
    },
    "id": "Ynv1SWRl5Dfp",
    "outputId": "1bd49cad-3501-434a-e533-25edf04e69af"
   },
   "outputs": [
    {
     "name": "stderr",
     "output_type": "stream",
     "text": [
      "/Users/fernadavo/.virtualenvs/dev_new/lib/python3.7/site-packages/IPython/core/interactiveshell.py:3418: DtypeWarning: Columns (13) have mixed types.Specify dtype option on import or set low_memory=False.\n",
      "  exec(code_obj, self.user_global_ns, self.user_ns)\n"
     ]
    }
   ],
   "source": [
    "data = pd.DataFrame()\n",
    "for year in tqdm([2019,2020, 2023,2022,2021]):\n",
    "    if year == 2023:\n",
    "        i2m_2 = list(zip(range(1,5), ['Gener','Febrer','Marc','Abril','Maig']))\n",
    "    elif year == 2019:\n",
    "        i2m_2 = list(zip(range(3,11), ['Març','Abril','Maig','Juny','Juliol','Agost','Setembre','Octubre','Novembre','Desembre']))\n",
    "    elif year == 2020:\n",
    "        i2m_2 = list(zip(range(1,13), ['Gener','Febrer','Marc','Abril','Maig','Juny','Juliol','Agost','Setembre','Octubre','Novembre','Desembre']))\n",
    "    else:\n",
    "        i2m_2 = list(zip(range(1,13), ['Gener','Febrer','Març','Abril','Maig','Juny','Juliol','Agost','Setembre','Octubre','Novembre','Desembre']))\n",
    "    for month, month_name in tqdm(i2m_2):\n",
    "        df = pd.read_csv(f'{year}_{month:02d}_{month_name}_BicingNou_ESTACIONS.csv')\n",
    "        df['last_reported_time'] = pd.to_datetime(df['last_reported'], unit='s')\n",
    "        df['last_reported_time_hour'] = df['last_reported_time'].apply(lambda x: str(x).split(\":\")[0])\n",
    "        df = df.groupby(by=['station_id','last_reported_time_hour']).first().reset_index()\n",
    "        data = pd.concat([data, df])\n",
    "\n",
    "data.to_csv('global_data.csv',compression='gzip')\n",
    "\n",
    "from google.colab import files\n",
    "files.download('global_data.csv')"
   ]
  },
  {
   "cell_type": "code",
   "execution_count": null,
   "metadata": {
    "id": "dC_K9wWJHDEo"
   },
   "outputs": [],
   "source": []
  }
 ],
 "metadata": {
  "accelerator": "GPU",
  "colab": {
   "provenance": []
  },
  "gpuClass": "standard",
  "kernelspec": {
   "display_name": "Python 3",
   "language": "python",
   "name": "python3"
  },
  "language_info": {
   "codemirror_mode": {
    "name": "ipython",
    "version": 3
   },
   "file_extension": ".py",
   "mimetype": "text/x-python",
   "name": "python",
   "nbconvert_exporter": "python",
   "pygments_lexer": "ipython3",
   "version": "3.7.9"
  },
  "toc": {
   "base_numbering": 1,
   "nav_menu": {},
   "number_sections": true,
   "sideBar": true,
   "skip_h1_title": false,
   "title_cell": "Table of Contents",
   "title_sidebar": "Contents",
   "toc_cell": false,
   "toc_position": {},
   "toc_section_display": true,
   "toc_window_display": true
  },
  "varInspector": {
   "cols": {
    "lenName": 16,
    "lenType": 16,
    "lenVar": 40
   },
   "kernels_config": {
    "python": {
     "delete_cmd_postfix": "",
     "delete_cmd_prefix": "del ",
     "library": "var_list.py",
     "varRefreshCmd": "print(var_dic_list())"
    },
    "r": {
     "delete_cmd_postfix": ") ",
     "delete_cmd_prefix": "rm(",
     "library": "var_list.r",
     "varRefreshCmd": "cat(var_dic_list()) "
    }
   },
   "types_to_exclude": [
    "module",
    "function",
    "builtin_function_or_method",
    "instance",
    "_Feature"
   ],
   "window_display": false
  }
 },
 "nbformat": 4,
 "nbformat_minor": 1
}
